{
 "cells": [
  {
   "cell_type": "markdown",
   "metadata": {},
   "source": [
    "Importamos las librerías necesarias para realizar nuestro análisis"
   ]
  },
  {
   "cell_type": "code",
   "execution_count": 1,
   "metadata": {
    "collapsed": true
   },
   "outputs": [],
   "source": [
    "import pandas as pd\n",
    "import numpy as np\n",
    "import matplotlib.pyplot as plt"
   ]
  },
  {
   "cell_type": "markdown",
   "metadata": {},
   "source": [
    "Importamos el archivo en el que tenemos guardados todas las películas a las que vamos a realizarle el análisis, que contiene: información sobre la película, título y guión"
   ]
  },
  {
   "cell_type": "code",
   "execution_count": 2,
   "metadata": {
    "collapsed": true
   },
   "outputs": [],
   "source": [
    "csv= pd.read_csv('imsdb.csv')"
   ]
  },
  {
   "cell_type": "markdown",
   "metadata": {},
   "source": [
    "Debido a la forma de extraer los datos de la web (con WebScraper de Google Chrome), la tabla tiene que ser limpiada, ya que contiene filas que no son interesantes para el análisis"
   ]
  },
  {
   "cell_type": "code",
   "execution_count": 3,
   "metadata": {
    "collapsed": true
   },
   "outputs": [],
   "source": [
    "csv=csv.replace('null', np.nan)\n",
    "csv= csv.dropna()"
   ]
  },
  {
   "cell_type": "markdown",
   "metadata": {},
   "source": [
    "Una vez realizado el primer procesamiento del DataFrame, tomamos sólo las columnas que de momento nos interesan para realizar nuestro análisis"
   ]
  },
  {
   "cell_type": "code",
   "execution_count": 4,
   "metadata": {
    "collapsed": true
   },
   "outputs": [],
   "source": [
    "imsdb= csv[['movie', 'genre', 'script']]"
   ]
  },
  {
   "cell_type": "markdown",
   "metadata": {},
   "source": [
    "Reestablecemos el índice"
   ]
  },
  {
   "cell_type": "code",
   "execution_count": 5,
   "metadata": {
    "collapsed": true
   },
   "outputs": [],
   "source": [
    "imsdb.index=range(0, len(imsdb))"
   ]
  },
  {
   "cell_type": "markdown",
   "metadata": {},
   "source": [
    "Renombramos las columnas para que sea más fácil el análisis"
   ]
  },
  {
   "cell_type": "code",
   "execution_count": 6,
   "metadata": {
    "collapsed": true
   },
   "outputs": [],
   "source": [
    "imsdb= imsdb[['movie', 'genre', 'script']]\n",
    "imsdb.columns =[ 'title', 'genre', 'script']"
   ]
  },
  {
   "cell_type": "markdown",
   "metadata": {},
   "source": [
    "Procesamos algunos títulos de las películas, los que tienen la palabra 'The' en el título, ya que los títulos en estos casos aparecen desordenados, lo que va a dificultar nuestro análisis posterior. Se reordenan los títulos para que aparezcan correctos"
   ]
  },
  {
   "cell_type": "code",
   "execution_count": 7,
   "metadata": {
    "collapsed": true
   },
   "outputs": [],
   "source": [
    "for index, title in enumerate(imsdb['title']):\n",
    "\n",
    "    if 'The' in title:\n",
    "        splitted_title= title.split(' ')\n",
    "        reordered_title=list()\n",
    "        \n",
    "        if 'The' in splitted_title[-1]:\n",
    "            reordered_title.append('The')\n",
    "            for words in splitted_title:\n",
    "                reordered_title.append(words)\n",
    "\n",
    "            del reordered_title[-1]\n",
    "            imsdb['title'].iloc[index]=' '.join(reordered_title)    \n",
    "            "
   ]
  },
  {
   "cell_type": "markdown",
   "metadata": {},
   "source": [
    "En esta parte comenzamos el procesamiento del texto de los guiones, que están guardados en la columna del DataFrame 'script'"
   ]
  },
  {
   "cell_type": "markdown",
   "metadata": {},
   "source": [
    "Separamos el texto de los guiones por párrafos"
   ]
  },
  {
   "cell_type": "code",
   "execution_count": 8,
   "metadata": {
    "scrolled": true
   },
   "outputs": [
    {
     "name": "stderr",
     "output_type": "stream",
     "text": [
      "C:\\Users\\Coral\\Anaconda3\\lib\\site-packages\\pandas\\core\\indexing.py:179: SettingWithCopyWarning: \n",
      "A value is trying to be set on a copy of a slice from a DataFrame\n",
      "\n",
      "See the caveats in the documentation: http://pandas.pydata.org/pandas-docs/stable/indexing.html#indexing-view-versus-copy\n",
      "  self._setitem_with_indexer(indexer, value)\n"
     ]
    }
   ],
   "source": [
    "imsdb['script_2']= np.nan\n",
    "\n",
    "for i, j in enumerate(imsdb['script']):\n",
    "    imsdb['script_2'].iloc[i]=j.split('\\n\\n')\n"
   ]
  },
  {
   "cell_type": "markdown",
   "metadata": {},
   "source": [
    "Creamos una funcion que limpie el texto de espacios en blanco, y a la vez divida cada párrafo en líneas"
   ]
  },
  {
   "cell_type": "code",
   "execution_count": 9,
   "metadata": {
    "collapsed": true
   },
   "outputs": [],
   "source": [
    "def strip_nd_splitlines(estring):\n",
    "    a= estring.strip()\n",
    "    b=a.splitlines()\n",
    "    return b"
   ]
  },
  {
   "cell_type": "code",
   "execution_count": 10,
   "metadata": {
    "collapsed": true,
    "scrolled": true
   },
   "outputs": [],
   "source": [
    "for i, j in enumerate(imsdb['script_2']):\n",
    "    imsdb['script_2'][i] =list(map(strip_nd_splitlines, j))"
   ]
  },
  {
   "cell_type": "markdown",
   "metadata": {},
   "source": [
    "Hacemos un último procesamiento del texto, limpiando cada línea de texto de espacios en blanco"
   ]
  },
  {
   "cell_type": "code",
   "execution_count": 11,
   "metadata": {
    "collapsed": true
   },
   "outputs": [],
   "source": [
    "for i, j in enumerate(imsdb['script_2']):\n",
    "    for a, b in enumerate(j):\n",
    "        imsdb['script_2'].iloc[i][a]= list(map(lambda x: x.strip(), imsdb['script_2'].iloc[i][a]))"
   ]
  },
  {
   "cell_type": "markdown",
   "metadata": {},
   "source": [
    "Por otro lado, es necesario extraer información sobre si las películas pasan el test o no. Para ello, es necesario extraer estos datos de otra web, ya que en imsdb.com no aparece esta información."
   ]
  },
  {
   "cell_type": "markdown",
   "metadata": {},
   "source": [
    "Obtengo mi tabla con la información de la página bechdeltest.com, de dónde obtengo un listado de 7678 películas etiquetadas según si pasan el test o no.\n",
    "Esta tabla será la que utilizaré para comprobar la precisión de mi código a la hora de determinar si una película pasa el test o no en base a su guión."
   ]
  },
  {
   "cell_type": "code",
   "execution_count": 12,
   "metadata": {
    "collapsed": true
   },
   "outputs": [],
   "source": [
    "bt_movies=pd.read_csv('bechdeltest_movies.csv')\n",
    "bt_result=pd.read_csv('bechdeltest_result.csv')\n",
    "\n",
    "bt_movies=bt_movies.sort_values(by='web-scraper-order')\n",
    "bt_result=bt_result.sort_values(by='web-scraper-order')\n",
    "\n",
    "bt_movies.index= range(0, len(bt_movies))\n",
    "bt_result.index=range(0, len(bt_result))\n",
    "\n",
    "bt_movies=bt_movies[['movies']]\n",
    "bt_result=bt_result[['result-src']]\n",
    "\n",
    "bt=bt_movies.merge(bt_result, right_index=True, left_index=True)\n",
    "\n",
    "bt['result-src'][bt['result-src']=='/static/pass.png']=1\n",
    "bt['result-src'][bt['result-src']=='/static/nopass.png']=0\n"
   ]
  },
  {
   "cell_type": "markdown",
   "metadata": {},
   "source": [
    "Primero voy a filtrar las películas de las que he podido obtener el guión (1107), para procesar sólo aquellas de las que también tengo el dato de si pasan el test o no, de cara a poder comprobar posteriormente la precisión de mi código."
   ]
  },
  {
   "cell_type": "markdown",
   "metadata": {},
   "source": [
    "Nos quedamos sólo con las películas de las que tenemos información sobre el resultado del test de Bechdel (las que aparecen en la página web 'bechdeltest.com')"
   ]
  },
  {
   "cell_type": "code",
   "execution_count": 13,
   "metadata": {
    "collapsed": true
   },
   "outputs": [],
   "source": [
    "films=imsdb[imsdb['title'].isin(bt['movies'])]\n",
    "films.index=range(0, len(films))\n",
    "bt=bt.drop(bt.index[bt.duplicated(subset='movies', keep='first')])\n",
    "films=films.merge(bt, left_on='title', right_on='movies')\n",
    "films=films[['title', 'genre', 'script', 'script_2', 'result-src']]"
   ]
  },
  {
   "cell_type": "markdown",
   "metadata": {},
   "source": [
    "En esta parte del código, una vez tenemos los guiones etiquetados con su resultado del test, hacemos el procesamiento de los guiones para convertir cada uno en un dataframe, de cara a que el procesamiento de los guiones sea más sencillo. \n",
    "Cada dataframe (guión), lo guardamos en un diccionario que contiene su índice en el DataFrame 'films', para poder acceder a toda la información relativa al guión cuando sea necesario."
   ]
  },
  {
   "cell_type": "code",
   "execution_count": 14,
   "metadata": {
    "collapsed": true
   },
   "outputs": [],
   "source": [
    "films_to_process= films[['title', 'script_2']]"
   ]
  },
  {
   "cell_type": "code",
   "execution_count": 15,
   "metadata": {
    "collapsed": true
   },
   "outputs": [],
   "source": [
    "bechdel_test={}\n",
    "for j, i in enumerate(films_to_process['script_2']):\n",
    "    df=pd.DataFrame(i)\n",
    "    df.fillna(value=' ', inplace=True)\n",
    "    df['Speech']=' '\n",
    "    for names in df.columns[1:-1]:\n",
    "        df['Speech']=df['Speech']+ ' ' +df[names]\n",
    "    df['Speech']=df['Speech'].str.strip()\n",
    "    df=df[[0, 'Speech']]\n",
    "    df= df[df[0].apply(str.isupper)]\n",
    "    df.index=range(0, len(df))\n",
    "    df= df[df['Speech'] != '']\n",
    "    bechdel_test[films_to_process['title'].iloc[j]] = df"
   ]
  },
  {
   "cell_type": "markdown",
   "metadata": {},
   "source": [
    "Elimino todos aquellos guiones que no se han procesado correctamente debido al formato en el que están escritos en la página web de la que los hemos obtenido, que no cumple con los requisitos estándares de los formatos de guiones."
   ]
  },
  {
   "cell_type": "code",
   "execution_count": 16,
   "metadata": {
    "collapsed": true,
    "scrolled": true
   },
   "outputs": [],
   "source": [
    "for key in list(bechdel_test):\n",
    "    if len(bechdel_test[key])<10:\n",
    "        del bechdel_test[key]\n"
   ]
  },
  {
   "cell_type": "markdown",
   "metadata": {},
   "source": [
    "Compruebo la cantidad de \"intervenciones\" que hay en cada guión. El entrecomillado hace referencia a que hay algunas filas que el programa hasta el momento ha tomado como intervenciones, pero que en realidad no lo son. Esto se debe, como en la parte anterior, al formato que tiene el guión en la web de la que está sacado. \n",
    "Es preciso, por lo tanto, eliminar estos guiones de nuestra base de datos, para que no entorpezcan el análisis.\n"
   ]
  },
  {
   "cell_type": "markdown",
   "metadata": {},
   "source": [
    "Primero, listaremos el número de intervenciones que hay por guión, y lo guardaremos en un DataFrame que contiene, por un lado, el índice con el que está guardado el guión en nuestra base de datos (y que nos permite conocer la información de la película), y por otro lado, el número de intervenciones que hay en ella."
   ]
  },
  {
   "cell_type": "code",
   "execution_count": 17,
   "metadata": {
    "collapsed": true
   },
   "outputs": [],
   "source": [
    "longitudes={}\n",
    "for key in list(bechdel_test):\n",
    "    longitudes[key] = [len(bechdel_test[key].groupby(0).count())]\n",
    "\n",
    "df_number_of_characters=pd.DataFrame.from_dict(longitudes, orient='index')   "
   ]
  },
  {
   "cell_type": "markdown",
   "metadata": {},
   "source": [
    "Lo hemos guardado en un DataFrame, para poder hacer un análisis rápido de los valores del número de intervenciones."
   ]
  },
  {
   "cell_type": "markdown",
   "metadata": {},
   "source": [
    "Podemos ver que, si bien la media del número de intervenciones es de 100, el 75% de los guiones tienen menos de 115 intervenciones. Merece la pena explorar aquellos guiones en los que aparecen más intervenciones, para determinar a qué se debe esto."
   ]
  },
  {
   "cell_type": "code",
   "execution_count": 18,
   "metadata": {},
   "outputs": [
    {
     "data": {
      "text/html": [
       "<div>\n",
       "<style>\n",
       "    .dataframe thead tr:only-child th {\n",
       "        text-align: right;\n",
       "    }\n",
       "\n",
       "    .dataframe thead th {\n",
       "        text-align: left;\n",
       "    }\n",
       "\n",
       "    .dataframe tbody tr th {\n",
       "        vertical-align: top;\n",
       "    }\n",
       "</style>\n",
       "<table border=\"1\" class=\"dataframe\">\n",
       "  <thead>\n",
       "    <tr style=\"text-align: right;\">\n",
       "      <th></th>\n",
       "      <th>0</th>\n",
       "    </tr>\n",
       "  </thead>\n",
       "  <tbody>\n",
       "    <tr>\n",
       "      <th>count</th>\n",
       "      <td>469.000000</td>\n",
       "    </tr>\n",
       "    <tr>\n",
       "      <th>mean</th>\n",
       "      <td>100.865672</td>\n",
       "    </tr>\n",
       "    <tr>\n",
       "      <th>std</th>\n",
       "      <td>85.000635</td>\n",
       "    </tr>\n",
       "    <tr>\n",
       "      <th>min</th>\n",
       "      <td>7.000000</td>\n",
       "    </tr>\n",
       "    <tr>\n",
       "      <th>25%</th>\n",
       "      <td>50.000000</td>\n",
       "    </tr>\n",
       "    <tr>\n",
       "      <th>50%</th>\n",
       "      <td>75.000000</td>\n",
       "    </tr>\n",
       "    <tr>\n",
       "      <th>75%</th>\n",
       "      <td>115.000000</td>\n",
       "    </tr>\n",
       "    <tr>\n",
       "      <th>max</th>\n",
       "      <td>719.000000</td>\n",
       "    </tr>\n",
       "  </tbody>\n",
       "</table>\n",
       "</div>"
      ],
      "text/plain": [
       "                0\n",
       "count  469.000000\n",
       "mean   100.865672\n",
       "std     85.000635\n",
       "min      7.000000\n",
       "25%     50.000000\n",
       "50%     75.000000\n",
       "75%    115.000000\n",
       "max    719.000000"
      ]
     },
     "execution_count": 18,
     "metadata": {},
     "output_type": "execute_result"
    }
   ],
   "source": [
    "df_number_of_characters.describe()"
   ]
  },
  {
   "cell_type": "markdown",
   "metadata": {},
   "source": [
    "Guardamos el índice de estos guiones poco usuales en cuanto a número de intervenciones"
   ]
  },
  {
   "cell_type": "code",
   "execution_count": 19,
   "metadata": {
    "collapsed": true
   },
   "outputs": [],
   "source": [
    "index_films_to_delete=df_number_of_characters[df_number_of_characters[0]>115].index"
   ]
  },
  {
   "cell_type": "code",
   "execution_count": 20,
   "metadata": {
    "scrolled": true
   },
   "outputs": [
    {
     "data": {
      "text/html": [
       "<div>\n",
       "<style>\n",
       "    .dataframe thead tr:only-child th {\n",
       "        text-align: right;\n",
       "    }\n",
       "\n",
       "    .dataframe thead th {\n",
       "        text-align: left;\n",
       "    }\n",
       "\n",
       "    .dataframe tbody tr th {\n",
       "        vertical-align: top;\n",
       "    }\n",
       "</style>\n",
       "<table border=\"1\" class=\"dataframe\">\n",
       "  <thead>\n",
       "    <tr style=\"text-align: right;\">\n",
       "      <th></th>\n",
       "      <th>0</th>\n",
       "    </tr>\n",
       "  </thead>\n",
       "  <tbody>\n",
       "    <tr>\n",
       "      <th>Public Enemies</th>\n",
       "      <td>382</td>\n",
       "    </tr>\n",
       "    <tr>\n",
       "      <th>Cecil B. Demented</th>\n",
       "      <td>371</td>\n",
       "    </tr>\n",
       "    <tr>\n",
       "      <th>42</th>\n",
       "      <td>286</td>\n",
       "    </tr>\n",
       "    <tr>\n",
       "      <th>American Hustle</th>\n",
       "      <td>167</td>\n",
       "    </tr>\n",
       "    <tr>\n",
       "      <th>Defiance</th>\n",
       "      <td>395</td>\n",
       "    </tr>\n",
       "    <tr>\n",
       "      <th>Elizabeth: The Golden Age</th>\n",
       "      <td>173</td>\n",
       "    </tr>\n",
       "    <tr>\n",
       "      <th>A Serious Man</th>\n",
       "      <td>135</td>\n",
       "    </tr>\n",
       "    <tr>\n",
       "      <th>Real Genius</th>\n",
       "      <td>226</td>\n",
       "    </tr>\n",
       "    <tr>\n",
       "      <th>Sherlock Holmes</th>\n",
       "      <td>121</td>\n",
       "    </tr>\n",
       "    <tr>\n",
       "      <th>Judge Dredd</th>\n",
       "      <td>439</td>\n",
       "    </tr>\n",
       "    <tr>\n",
       "      <th>Magnolia</th>\n",
       "      <td>166</td>\n",
       "    </tr>\n",
       "    <tr>\n",
       "      <th>Bad Teacher</th>\n",
       "      <td>182</td>\n",
       "    </tr>\n",
       "    <tr>\n",
       "      <th>Liar Liar</th>\n",
       "      <td>268</td>\n",
       "    </tr>\n",
       "    <tr>\n",
       "      <th>Eagle Eye</th>\n",
       "      <td>284</td>\n",
       "    </tr>\n",
       "    <tr>\n",
       "      <th>Argo</th>\n",
       "      <td>268</td>\n",
       "    </tr>\n",
       "    <tr>\n",
       "      <th>Bridesmaids</th>\n",
       "      <td>162</td>\n",
       "    </tr>\n",
       "    <tr>\n",
       "      <th>Sunshine Cleaning</th>\n",
       "      <td>168</td>\n",
       "    </tr>\n",
       "    <tr>\n",
       "      <th>Battle: Los Angeles</th>\n",
       "      <td>148</td>\n",
       "    </tr>\n",
       "    <tr>\n",
       "      <th>Hancock</th>\n",
       "      <td>202</td>\n",
       "    </tr>\n",
       "    <tr>\n",
       "      <th>Garden State</th>\n",
       "      <td>183</td>\n",
       "    </tr>\n",
       "    <tr>\n",
       "      <th>Broken Arrow</th>\n",
       "      <td>238</td>\n",
       "    </tr>\n",
       "    <tr>\n",
       "      <th>Groundhog Day</th>\n",
       "      <td>211</td>\n",
       "    </tr>\n",
       "    <tr>\n",
       "      <th>Silver Linings Playbook</th>\n",
       "      <td>126</td>\n",
       "    </tr>\n",
       "    <tr>\n",
       "      <th>Speed Racer</th>\n",
       "      <td>154</td>\n",
       "    </tr>\n",
       "    <tr>\n",
       "      <th>Snow White and the Huntsman</th>\n",
       "      <td>174</td>\n",
       "    </tr>\n",
       "    <tr>\n",
       "      <th>Donnie Brasco</th>\n",
       "      <td>214</td>\n",
       "    </tr>\n",
       "    <tr>\n",
       "      <th>Pearl Harbor</th>\n",
       "      <td>129</td>\n",
       "    </tr>\n",
       "    <tr>\n",
       "      <th>Margaret</th>\n",
       "      <td>207</td>\n",
       "    </tr>\n",
       "    <tr>\n",
       "      <th>Priest</th>\n",
       "      <td>241</td>\n",
       "    </tr>\n",
       "    <tr>\n",
       "      <th>Legion</th>\n",
       "      <td>135</td>\n",
       "    </tr>\n",
       "    <tr>\n",
       "      <th>...</th>\n",
       "      <td>...</td>\n",
       "    </tr>\n",
       "    <tr>\n",
       "      <th>Inglourious Basterds</th>\n",
       "      <td>310</td>\n",
       "    </tr>\n",
       "    <tr>\n",
       "      <th>Man on the Moon</th>\n",
       "      <td>116</td>\n",
       "    </tr>\n",
       "    <tr>\n",
       "      <th>Into the Woods</th>\n",
       "      <td>250</td>\n",
       "    </tr>\n",
       "    <tr>\n",
       "      <th>Casino</th>\n",
       "      <td>210</td>\n",
       "    </tr>\n",
       "    <tr>\n",
       "      <th>Wall Street: Money Never Sleeps</th>\n",
       "      <td>165</td>\n",
       "    </tr>\n",
       "    <tr>\n",
       "      <th>Orphan</th>\n",
       "      <td>243</td>\n",
       "    </tr>\n",
       "    <tr>\n",
       "      <th>Forrest Gump</th>\n",
       "      <td>125</td>\n",
       "    </tr>\n",
       "    <tr>\n",
       "      <th>Harold and Kumar Go to White Castle</th>\n",
       "      <td>238</td>\n",
       "    </tr>\n",
       "    <tr>\n",
       "      <th>Deception</th>\n",
       "      <td>189</td>\n",
       "    </tr>\n",
       "    <tr>\n",
       "      <th>Into the Wild</th>\n",
       "      <td>123</td>\n",
       "    </tr>\n",
       "    <tr>\n",
       "      <th>Pride and Prejudice</th>\n",
       "      <td>181</td>\n",
       "    </tr>\n",
       "    <tr>\n",
       "      <th>Gremlins</th>\n",
       "      <td>243</td>\n",
       "    </tr>\n",
       "    <tr>\n",
       "      <th>2001: A Space Odyssey</th>\n",
       "      <td>346</td>\n",
       "    </tr>\n",
       "    <tr>\n",
       "      <th>Fletch</th>\n",
       "      <td>136</td>\n",
       "    </tr>\n",
       "    <tr>\n",
       "      <th>Air Force One</th>\n",
       "      <td>130</td>\n",
       "    </tr>\n",
       "    <tr>\n",
       "      <th>Ginger Snaps</th>\n",
       "      <td>118</td>\n",
       "    </tr>\n",
       "    <tr>\n",
       "      <th>Fright Night</th>\n",
       "      <td>182</td>\n",
       "    </tr>\n",
       "    <tr>\n",
       "      <th>Moneyball</th>\n",
       "      <td>179</td>\n",
       "    </tr>\n",
       "    <tr>\n",
       "      <th>Coriolanus</th>\n",
       "      <td>258</td>\n",
       "    </tr>\n",
       "    <tr>\n",
       "      <th>Star Trek</th>\n",
       "      <td>205</td>\n",
       "    </tr>\n",
       "    <tr>\n",
       "      <th>Marley &amp; Me</th>\n",
       "      <td>167</td>\n",
       "    </tr>\n",
       "    <tr>\n",
       "      <th>Superbad</th>\n",
       "      <td>198</td>\n",
       "    </tr>\n",
       "    <tr>\n",
       "      <th>Copycat</th>\n",
       "      <td>212</td>\n",
       "    </tr>\n",
       "    <tr>\n",
       "      <th>Prom Night</th>\n",
       "      <td>225</td>\n",
       "    </tr>\n",
       "    <tr>\n",
       "      <th>Unknown</th>\n",
       "      <td>222</td>\n",
       "    </tr>\n",
       "    <tr>\n",
       "      <th>After.Life</th>\n",
       "      <td>161</td>\n",
       "    </tr>\n",
       "    <tr>\n",
       "      <th>TMNT</th>\n",
       "      <td>175</td>\n",
       "    </tr>\n",
       "    <tr>\n",
       "      <th>Happy Feet</th>\n",
       "      <td>118</td>\n",
       "    </tr>\n",
       "    <tr>\n",
       "      <th>Clash of the Titans</th>\n",
       "      <td>231</td>\n",
       "    </tr>\n",
       "    <tr>\n",
       "      <th>Cellular</th>\n",
       "      <td>365</td>\n",
       "    </tr>\n",
       "  </tbody>\n",
       "</table>\n",
       "<p>117 rows × 1 columns</p>\n",
       "</div>"
      ],
      "text/plain": [
       "                                       0\n",
       "Public Enemies                       382\n",
       "Cecil B. Demented                    371\n",
       "42                                   286\n",
       "American Hustle                      167\n",
       "Defiance                             395\n",
       "Elizabeth: The Golden Age            173\n",
       "A Serious Man                        135\n",
       "Real Genius                          226\n",
       "Sherlock Holmes                      121\n",
       "Judge Dredd                          439\n",
       "Magnolia                             166\n",
       "Bad Teacher                          182\n",
       "Liar Liar                            268\n",
       "Eagle Eye                            284\n",
       "Argo                                 268\n",
       "Bridesmaids                          162\n",
       "Sunshine Cleaning                    168\n",
       "Battle: Los Angeles                  148\n",
       "Hancock                              202\n",
       "Garden State                         183\n",
       "Broken Arrow                         238\n",
       "Groundhog Day                        211\n",
       "Silver Linings Playbook              126\n",
       "Speed Racer                          154\n",
       "Snow White and the Huntsman          174\n",
       "Donnie Brasco                        214\n",
       "Pearl Harbor                         129\n",
       "Margaret                             207\n",
       "Priest                               241\n",
       "Legion                               135\n",
       "...                                  ...\n",
       "Inglourious Basterds                 310\n",
       "Man on the Moon                      116\n",
       "Into the Woods                       250\n",
       "Casino                               210\n",
       "Wall Street: Money Never Sleeps      165\n",
       "Orphan                               243\n",
       "Forrest Gump                         125\n",
       "Harold and Kumar Go to White Castle  238\n",
       "Deception                            189\n",
       "Into the Wild                        123\n",
       "Pride and Prejudice                  181\n",
       "Gremlins                             243\n",
       "2001: A Space Odyssey                346\n",
       "Fletch                               136\n",
       "Air Force One                        130\n",
       "Ginger Snaps                         118\n",
       "Fright Night                         182\n",
       "Moneyball                            179\n",
       "Coriolanus                           258\n",
       "Star Trek                            205\n",
       "Marley & Me                          167\n",
       "Superbad                             198\n",
       "Copycat                              212\n",
       "Prom Night                           225\n",
       "Unknown                              222\n",
       "After.Life                           161\n",
       "TMNT                                 175\n",
       "Happy Feet                           118\n",
       "Clash of the Titans                  231\n",
       "Cellular                             365\n",
       "\n",
       "[117 rows x 1 columns]"
      ]
     },
     "execution_count": 20,
     "metadata": {},
     "output_type": "execute_result"
    }
   ],
   "source": [
    "df_number_of_characters[df_number_of_characters[0]>115]"
   ]
  },
  {
   "cell_type": "markdown",
   "metadata": {},
   "source": [
    "Hay 117 guiones que tienen este número anormal de intervenciones"
   ]
  },
  {
   "cell_type": "code",
   "execution_count": 21,
   "metadata": {},
   "outputs": [
    {
     "data": {
      "text/plain": [
       "117"
      ]
     },
     "execution_count": 21,
     "metadata": {},
     "output_type": "execute_result"
    }
   ],
   "source": [
    "len(index_films_to_delete)"
   ]
  },
  {
   "cell_type": "markdown",
   "metadata": {},
   "source": [
    "Exploramos una intervención al azar, para ver a qué se debe la discrepancia en el número de intervenciones."
   ]
  },
  {
   "cell_type": "markdown",
   "metadata": {},
   "source": [
    "Podemos ver que, en el guión de la película 'Signs', tras nuestro procesamiento, no sólo aparecen listadas las intervenciones de los personajes (como debería suceder), si no que también aparecen partes descriptivas del guión. Al explorar este guión en http://www.imsdb.com/scripts/Signs.html podemos ver que el formato en el que está escrito, si bien se asemeja a la estructura que debería seguir un guión de cine, no está del todo bien hecha, ya que tiene partes descriptivas en mayúsculas, cuando las guías de estilo de los guiones indican que estas partes debería tener formato de oración, dejando las partes escritas en mayúscula para las intervenciones de los personajes.\n",
    "\n"
   ]
  },
  {
   "cell_type": "code",
   "execution_count": 22,
   "metadata": {},
   "outputs": [
    {
     "data": {
      "text/plain": [
       "'Signs'"
      ]
     },
     "execution_count": 22,
     "metadata": {},
     "output_type": "execute_result"
    }
   ],
   "source": [
    "index_films_to_delete[37]"
   ]
  },
  {
   "cell_type": "code",
   "execution_count": 23,
   "metadata": {
    "scrolled": true
   },
   "outputs": [
    {
     "data": {
      "text/html": [
       "<div>\n",
       "<style>\n",
       "    .dataframe thead tr:only-child th {\n",
       "        text-align: right;\n",
       "    }\n",
       "\n",
       "    .dataframe thead th {\n",
       "        text-align: left;\n",
       "    }\n",
       "\n",
       "    .dataframe tbody tr th {\n",
       "        vertical-align: top;\n",
       "    }\n",
       "</style>\n",
       "<table border=\"1\" class=\"dataframe\">\n",
       "  <thead>\n",
       "    <tr style=\"text-align: right;\">\n",
       "      <th></th>\n",
       "      <th>Speech</th>\n",
       "    </tr>\n",
       "    <tr>\n",
       "      <th>0</th>\n",
       "      <th></th>\n",
       "    </tr>\n",
       "  </thead>\n",
       "  <tbody>\n",
       "    <tr>\n",
       "      <th>GRAHAM</th>\n",
       "      <td>235</td>\n",
       "    </tr>\n",
       "    <tr>\n",
       "      <th>MERRILL</th>\n",
       "      <td>108</td>\n",
       "    </tr>\n",
       "    <tr>\n",
       "      <th>MORGAN</th>\n",
       "      <td>87</td>\n",
       "    </tr>\n",
       "    <tr>\n",
       "      <th>OFFICER PASKI</th>\n",
       "      <td>47</td>\n",
       "    </tr>\n",
       "    <tr>\n",
       "      <th>BO</th>\n",
       "      <td>34</td>\n",
       "    </tr>\n",
       "    <tr>\n",
       "      <th>TV ANCHOR</th>\n",
       "      <td>9</td>\n",
       "    </tr>\n",
       "    <tr>\n",
       "      <th>CREWCUT GUY</th>\n",
       "      <td>9</td>\n",
       "    </tr>\n",
       "    <tr>\n",
       "      <th>COLLEEN</th>\n",
       "      <td>9</td>\n",
       "    </tr>\n",
       "    <tr>\n",
       "      <th>PHARMACIST</th>\n",
       "      <td>7</td>\n",
       "    </tr>\n",
       "    <tr>\n",
       "      <th>RAY</th>\n",
       "      <td>6</td>\n",
       "    </tr>\n",
       "    <tr>\n",
       "      <th>MRS. NATHAN</th>\n",
       "      <td>4</td>\n",
       "    </tr>\n",
       "    <tr>\n",
       "      <th>TV REPORTER</th>\n",
       "      <td>2</td>\n",
       "    </tr>\n",
       "    <tr>\n",
       "      <th>RADIO VOICE</th>\n",
       "      <td>2</td>\n",
       "    </tr>\n",
       "    <tr>\n",
       "      <th>MR. NATHAN</th>\n",
       "      <td>2</td>\n",
       "    </tr>\n",
       "    <tr>\n",
       "      <th>THE SCRATCHING AND MOVEMENT OUTSIDE THE DOOR BEGINS TO</th>\n",
       "      <td>1</td>\n",
       "    </tr>\n",
       "    <tr>\n",
       "      <th>THE ROOM IS ENGULFED WITH STREAMS OF SUNLIGHT FROM THE BROKEN</th>\n",
       "      <td>1</td>\n",
       "    </tr>\n",
       "    <tr>\n",
       "      <th>THE ONLY SOUND IN THE KITCHEN IS THE SOUND OF THE FAUCET</th>\n",
       "      <td>1</td>\n",
       "    </tr>\n",
       "    <tr>\n",
       "      <th>THE SCREEN FILLS WITH CRISP BLACKS.  WE ARE WATCHING VIDEO OF</th>\n",
       "      <td>1</td>\n",
       "    </tr>\n",
       "    <tr>\n",
       "      <th>THE SOUND OF A GLASS JAR BREAKING ON THE GROUND CAN BE HEARD</th>\n",
       "      <td>1</td>\n",
       "    </tr>\n",
       "    <tr>\n",
       "      <th>THE REFLECTION OF A CREATURE SILHOUETTED PANS ACROSS THE</th>\n",
       "      <td>1</td>\n",
       "    </tr>\n",
       "    <tr>\n",
       "      <th>THE SOUND OF THE BASEBALL HITTING THE WOODEN HANDLE CRACKS</th>\n",
       "      <td>1</td>\n",
       "    </tr>\n",
       "    <tr>\n",
       "      <th>THE SOUND OF THE STRAW FADES AS MORGAN'S BREATHING TURNS INTO</th>\n",
       "      <td>1</td>\n",
       "    </tr>\n",
       "    <tr>\n",
       "      <th>THE SWIRLING TEXTURE COMING FROM THE MONITOR BECOMES</th>\n",
       "      <td>1</td>\n",
       "    </tr>\n",
       "    <tr>\n",
       "      <th>THE PICTURE OF THE ANCHORMAN IS REPLACED BY A HANDHELD VIDEO</th>\n",
       "      <td>1</td>\n",
       "    </tr>\n",
       "    <tr>\n",
       "      <th>\"BUCKS COUNTY PENNSYLVANIA...</th>\n",
       "      <td>1</td>\n",
       "    </tr>\n",
       "    <tr>\n",
       "      <th>THE NEWS HAS PAUSED THE VIDEOTAPE ON THE EXACT MOMENT THE</th>\n",
       "      <td>1</td>\n",
       "    </tr>\n",
       "    <tr>\n",
       "      <th>THE SWIRLING, MOVING TEXTURE BECOMES LOUD AND FILLED WITH</th>\n",
       "      <td>1</td>\n",
       "    </tr>\n",
       "    <tr>\n",
       "      <th>THE FLASHLIGHT IS DROPPED AND PICKED UP AGAIN.  WE SEE IT IS</th>\n",
       "      <td>1</td>\n",
       "    </tr>\n",
       "    <tr>\n",
       "      <th>THE HANDHELD IMAGE MOVES OVER THEIR SHOULDERS TO LOOK OUT</th>\n",
       "      <td>1</td>\n",
       "    </tr>\n",
       "    <tr>\n",
       "      <th>THE HIGH PITCHED RINGING SOUND OVERWHELMS EVERYTHING.  THE</th>\n",
       "      <td>1</td>\n",
       "    </tr>\n",
       "    <tr>\n",
       "      <th>...</th>\n",
       "      <td>...</td>\n",
       "    </tr>\n",
       "    <tr>\n",
       "      <th>THE CREATURE'S SCREAMS FILL THE FAMILY ROOM -- AND THEN</th>\n",
       "      <td>1</td>\n",
       "    </tr>\n",
       "    <tr>\n",
       "      <th>THE CREATURE'S BLACK, EMPTY EYES LOOK UP IN TIME TO SEE BO'S</th>\n",
       "      <td>1</td>\n",
       "    </tr>\n",
       "    <tr>\n",
       "      <th>THE CREATURE WAVERS AND THEN ALL SEVEN FEET OF IT TIPS OVER.</th>\n",
       "      <td>1</td>\n",
       "    </tr>\n",
       "    <tr>\n",
       "      <th>A BEAM OF LIGHT SHOOTS ACROSS THE GROUND.  SOMETHING POWDERY</th>\n",
       "      <td>1</td>\n",
       "    </tr>\n",
       "    <tr>\n",
       "      <th>THE CRACKLING IS GONE.  THE VOICE-LIKE SOUNDS ARE CLEAR AND</th>\n",
       "      <td>1</td>\n",
       "    </tr>\n",
       "    <tr>\n",
       "      <th>THE CHILDREN ARE SPEAKING PORTUGUESE EXCITEDLY.  THEY LOOK AT</th>\n",
       "      <td>1</td>\n",
       "    </tr>\n",
       "    <tr>\n",
       "      <th>THE BREATHING IS JOINED BY THE HISSING OF GAS AS IT'S BEING</th>\n",
       "      <td>1</td>\n",
       "    </tr>\n",
       "    <tr>\n",
       "      <th>THE BOY GESTURES TO THE GARAGE BUILDING.  THE IMAGE SETTLES</th>\n",
       "      <td>1</td>\n",
       "    </tr>\n",
       "    <tr>\n",
       "      <th>THE BEAMS MOVE UP AND DOWN OVER THE FINAL WALL.  GRAHAM AND</th>\n",
       "      <td>1</td>\n",
       "    </tr>\n",
       "    <tr>\n",
       "      <th>THE BEAM SEARCHES IN THE DARKNESS.  THROUGH THE BOXES,</th>\n",
       "      <td>1</td>\n",
       "    </tr>\n",
       "    <tr>\n",
       "      <th>THE BEAM OF LIGHT FALLS ON THE WALL OF CORN CROPS LINING THE</th>\n",
       "      <td>1</td>\n",
       "    </tr>\n",
       "    <tr>\n",
       "      <th>SOUNDS OF MOVEMENT AGAINST THE SIDE OF THE HOUSE.  SOUNDS</th>\n",
       "      <td>1</td>\n",
       "    </tr>\n",
       "    <tr>\n",
       "      <th>SOMEONE PICKS UP A FLASHLIGHT.  WE SEE GLIMPSES OF STRAINING</th>\n",
       "      <td>1</td>\n",
       "    </tr>\n",
       "    <tr>\n",
       "      <th>RADIO HOST (V.O.)</th>\n",
       "      <td>1</td>\n",
       "    </tr>\n",
       "    <tr>\n",
       "      <th>LIONEL</th>\n",
       "      <td>1</td>\n",
       "    </tr>\n",
       "    <tr>\n",
       "      <th>PROFESSOR (TV)</th>\n",
       "      <td>1</td>\n",
       "    </tr>\n",
       "    <tr>\n",
       "      <th>PHONE VOICE</th>\n",
       "      <td>1</td>\n",
       "    </tr>\n",
       "    <tr>\n",
       "      <th>OUR VIEW TURNS TO LOOK AT THE BARN THROUGH THE CROPS.</th>\n",
       "      <td>1</td>\n",
       "    </tr>\n",
       "    <tr>\n",
       "      <th>ON THE SCREEN WITH THE SOUND ALMOST MUTED, IS AN AERIAL SHOT</th>\n",
       "      <td>1</td>\n",
       "    </tr>\n",
       "    <tr>\n",
       "      <th>ON THE SCREEN IS A STREET FILLED WITH PEOPLE RUNNING WITH</th>\n",
       "      <td>1</td>\n",
       "    </tr>\n",
       "    <tr>\n",
       "      <th>MR. NATHAN (O.S.)</th>\n",
       "      <td>1</td>\n",
       "    </tr>\n",
       "    <tr>\n",
       "      <th>MORGAN'S VOICE</th>\n",
       "      <td>1</td>\n",
       "    </tr>\n",
       "    <tr>\n",
       "      <th>MORGAN SCREAMS.  THE FLASHLIGHTS DROP TO THE GROUND.  THERE'S</th>\n",
       "      <td>1</td>\n",
       "    </tr>\n",
       "    <tr>\n",
       "      <th>MORGAN MOVES THE BEAM DOWN TO THE PICK, WHICH IS WEDGED</th>\n",
       "      <td>1</td>\n",
       "    </tr>\n",
       "    <tr>\n",
       "      <th>MERRILL PRESSES THE BUTTON ON HIS FLASHLIGHT.  THE BEAM OF</th>\n",
       "      <td>1</td>\n",
       "    </tr>\n",
       "    <tr>\n",
       "      <th>MERRILL MOVES BETWEEN SHELVES, ONE AT A TIME.  HIS FLASHLIGHT</th>\n",
       "      <td>1</td>\n",
       "    </tr>\n",
       "    <tr>\n",
       "      <th>MERRILL FALLS TO THE GROUND EXHAUSTED.  THE PILE OF DOG FOOD</th>\n",
       "      <td>1</td>\n",
       "    </tr>\n",
       "    <tr>\n",
       "      <th>MERRILL (V.O.)</th>\n",
       "      <td>1</td>\n",
       "    </tr>\n",
       "    <tr>\n",
       "      <th>MERRILL (O.S.)</th>\n",
       "      <td>1</td>\n",
       "    </tr>\n",
       "    <tr>\n",
       "      <th>YOUNG MAN (O.S.)</th>\n",
       "      <td>1</td>\n",
       "    </tr>\n",
       "  </tbody>\n",
       "</table>\n",
       "<p>147 rows × 1 columns</p>\n",
       "</div>"
      ],
      "text/plain": [
       "                                                    Speech\n",
       "0                                                         \n",
       "GRAHAM                                                 235\n",
       "MERRILL                                                108\n",
       "MORGAN                                                  87\n",
       "OFFICER PASKI                                           47\n",
       "BO                                                      34\n",
       "TV ANCHOR                                                9\n",
       "CREWCUT GUY                                              9\n",
       "COLLEEN                                                  9\n",
       "PHARMACIST                                               7\n",
       "RAY                                                      6\n",
       "MRS. NATHAN                                              4\n",
       "TV REPORTER                                              2\n",
       "RADIO VOICE                                              2\n",
       "MR. NATHAN                                               2\n",
       "THE SCRATCHING AND MOVEMENT OUTSIDE THE DOOR BE...       1\n",
       "THE ROOM IS ENGULFED WITH STREAMS OF SUNLIGHT F...       1\n",
       "THE ONLY SOUND IN THE KITCHEN IS THE SOUND OF T...       1\n",
       "THE SCREEN FILLS WITH CRISP BLACKS.  WE ARE WAT...       1\n",
       "THE SOUND OF A GLASS JAR BREAKING ON THE GROUND...       1\n",
       "THE REFLECTION OF A CREATURE SILHOUETTED PANS A...       1\n",
       "THE SOUND OF THE BASEBALL HITTING THE WOODEN HA...       1\n",
       "THE SOUND OF THE STRAW FADES AS MORGAN'S BREATH...       1\n",
       "THE SWIRLING TEXTURE COMING FROM THE MONITOR BE...       1\n",
       "THE PICTURE OF THE ANCHORMAN IS REPLACED BY A H...       1\n",
       "\"BUCKS COUNTY PENNSYLVANIA...                            1\n",
       "THE NEWS HAS PAUSED THE VIDEOTAPE ON THE EXACT ...       1\n",
       "THE SWIRLING, MOVING TEXTURE BECOMES LOUD AND F...       1\n",
       "THE FLASHLIGHT IS DROPPED AND PICKED UP AGAIN. ...       1\n",
       "THE HANDHELD IMAGE MOVES OVER THEIR SHOULDERS T...       1\n",
       "THE HIGH PITCHED RINGING SOUND OVERWHELMS EVERY...       1\n",
       "...                                                    ...\n",
       "THE CREATURE'S SCREAMS FILL THE FAMILY ROOM -- ...       1\n",
       "THE CREATURE'S BLACK, EMPTY EYES LOOK UP IN TIM...       1\n",
       "THE CREATURE WAVERS AND THEN ALL SEVEN FEET OF ...       1\n",
       "A BEAM OF LIGHT SHOOTS ACROSS THE GROUND.  SOME...       1\n",
       "THE CRACKLING IS GONE.  THE VOICE-LIKE SOUNDS A...       1\n",
       "THE CHILDREN ARE SPEAKING PORTUGUESE EXCITEDLY....       1\n",
       "THE BREATHING IS JOINED BY THE HISSING OF GAS A...       1\n",
       "THE BOY GESTURES TO THE GARAGE BUILDING.  THE I...       1\n",
       "THE BEAMS MOVE UP AND DOWN OVER THE FINAL WALL....       1\n",
       "THE BEAM SEARCHES IN THE DARKNESS.  THROUGH THE...       1\n",
       "THE BEAM OF LIGHT FALLS ON THE WALL OF CORN CRO...       1\n",
       "SOUNDS OF MOVEMENT AGAINST THE SIDE OF THE HOUS...       1\n",
       "SOMEONE PICKS UP A FLASHLIGHT.  WE SEE GLIMPSES...       1\n",
       "RADIO HOST (V.O.)                                        1\n",
       "LIONEL                                                   1\n",
       "PROFESSOR (TV)                                           1\n",
       "PHONE VOICE                                              1\n",
       "OUR VIEW TURNS TO LOOK AT THE BARN THROUGH THE ...       1\n",
       "ON THE SCREEN WITH THE SOUND ALMOST MUTED, IS A...       1\n",
       "ON THE SCREEN IS A STREET FILLED WITH PEOPLE RU...       1\n",
       "MR. NATHAN (O.S.)                                        1\n",
       "MORGAN'S VOICE                                           1\n",
       "MORGAN SCREAMS.  THE FLASHLIGHTS DROP TO THE GR...       1\n",
       "MORGAN MOVES THE BEAM DOWN TO THE PICK, WHICH I...       1\n",
       "MERRILL PRESSES THE BUTTON ON HIS FLASHLIGHT.  ...       1\n",
       "MERRILL MOVES BETWEEN SHELVES, ONE AT A TIME.  ...       1\n",
       "MERRILL FALLS TO THE GROUND EXHAUSTED.  THE PIL...       1\n",
       "MERRILL (V.O.)                                           1\n",
       "MERRILL (O.S.)                                           1\n",
       "YOUNG MAN (O.S.)                                         1\n",
       "\n",
       "[147 rows x 1 columns]"
      ]
     },
     "execution_count": 23,
     "metadata": {},
     "output_type": "execute_result"
    }
   ],
   "source": [
    "bechdel_test[index_films_to_delete[37]].groupby(0).count().sort_values(by= 'Speech', ascending=False)"
   ]
  },
  {
   "cell_type": "markdown",
   "metadata": {},
   "source": [
    "Este es sólo un ejemplo del por qué de esta discrepancia. Haciendo una exploración aleatoria de algunos de los 117 guiones, podemos ver que se debe a diversas causas, todas relativas al estilo en el que están escritos en la página web, que no sigue exactamente las directrices de estilo, y por tanto, dificultan la generalización de nuestro análisis. Es por esto por lo que tomo la decisión de eliminar estos guiones del análisis, ya que, al ser tan dispares los formatos en los que están escritos, la \"limpieza\" y estandarización de los mismos habría que hacerse de forma manual uno a uno, y eso escapa a los objetivos de este TFM."
   ]
  },
  {
   "cell_type": "code",
   "execution_count": 24,
   "metadata": {
    "collapsed": true
   },
   "outputs": [],
   "source": [
    "for index in index_films_to_delete:\n",
    "    del bechdel_test[index]"
   ]
  },
  {
   "cell_type": "markdown",
   "metadata": {
    "collapsed": true
   },
   "source": [
    "Limpiamos el csv que hemos scrapeado con todos los enlaces a cada página con la informacion sobre cada película, nos quedamos sólo con las que necesitamos(las 588 que vamos a analizar en un principio, porque tenemos su guión y su etiqueta sobre si pasa el test o no), para guardarlo como otro CSV que utilizaremos para hacer scraping de esta información con R."
   ]
  },
  {
   "cell_type": "code",
   "execution_count": 25,
   "metadata": {
    "collapsed": true
   },
   "outputs": [],
   "source": [
    "#EN ESTA CELDA PODEMOS OBTENER EL AÑO DE LA PELÍCULA. NO SE SI SERÁ UTIL PARA EL FUTURO\n",
    "\n",
    "\n",
    "#def clean_the_title(estring_):\n",
    " #   a=estring_.split()\n",
    " #   b=\" \".join(a[:-2])\n",
    " #   return b\n",
    "\n",
    "\n",
    "#names_movies_bt= pd.read_csv('Info_films/titles.csv')\n",
    "#names_movies_bt['link_to_imbd']=names_movies_bt['link_to_imbd'].apply(lambda x: x.split()[-1][1:5])\n",
    "#names_movies_bt=names_movies_bt[['link_1', 'link_to_imbd', 'link_to_imbd-href']]\n",
    "#names_movies_bt.columns= ['title', 'year', 'href']"
   ]
  },
  {
   "cell_type": "markdown",
   "metadata": {
    "collapsed": true
   },
   "source": [
    "Preparamos un dataframe para guardarlo como CSV, y así poder hacer scrapping de la tabla de personajes y actores/actrices de cada película de la que vamos a realizar el análisis"
   ]
  },
  {
   "cell_type": "code",
   "execution_count": 26,
   "metadata": {
    "collapsed": true
   },
   "outputs": [],
   "source": [
    "names_movies_bt= pd.read_csv('Info_films/titles.csv', usecols=['link_1', 'link_to_imbd-href'])\n",
    "names_movies_bt.columns= ['title', 'href']\n",
    "names_movies_bt=names_movies_bt[names_movies_bt['title'].isin(films_to_process['title'])]\n",
    "names_movies_bt=names_movies_bt.drop_duplicates(subset='title')\n",
    "names_movies_bt.index=range(0, len(names_movies_bt))\n",
    "names_movies_bt['href']= names_movies_bt['href']+'fullcredits'\n",
    "names_movies_bt.to_csv('ref_for_characters_scrapping.csv')"
   ]
  },
  {
   "cell_type": "markdown",
   "metadata": {},
   "source": [
    "## ..............................................................................................................................................."
   ]
  },
  {
   "cell_type": "markdown",
   "metadata": {},
   "source": [
    "## En esta parte utilizamos R para extraer las tablas con la información de personajes y actores/actrices"
   ]
  },
  {
   "cell_type": "markdown",
   "metadata": {},
   "source": [
    "## ..............................................................................................................................................."
   ]
  },
  {
   "cell_type": "markdown",
   "metadata": {},
   "source": [
    "Extraemos dos diccionarios, uno con una lista de personajes femeninos en cada palícula y otro con la lista de personajes masculinos, a partir de los csv que hemos conseguido utilizando R"
   ]
  },
  {
   "cell_type": "code",
   "execution_count": 27,
   "metadata": {},
   "outputs": [
    {
     "name": "stderr",
     "output_type": "stream",
     "text": [
      "C:\\Users\\Coral\\Anaconda3\\lib\\site-packages\\ipykernel_launcher.py:19: UserWarning: This pattern has match groups. To actually get the groups, use str.extract.\n"
     ]
    }
   ],
   "source": [
    "women_names= pd.read_csv('women_names.csv', usecols=['women names'])\n",
    "women_names['women names']= women_names['women names'].str.upper()\n",
    "men_names= pd.read_csv('men_names.csv', usecols= ['men names'])\n",
    "men_names['men names']= men_names['men names'].str.upper()\n",
    "\n",
    "female_character_in_films_to_process={}\n",
    "for index, title in enumerate(names_movies_bt['title']):\n",
    "    if ':' in title:\n",
    "        continue\n",
    "    elif '?' in title:\n",
    "        continue\n",
    "    else:\n",
    "        path= \"C:\\\\Users\\\\Coral\\\\Desktop\\\\MASTER\\\\TFM\\\\results_of_scrapping\\\\\"+title+\".csv\"\n",
    "        df_cast=pd.read_csv(path, encoding = \"ISO-8859-1\")\n",
    "        df_cast=df_cast[['X2','X4']].iloc[1:len(df_cast)]\n",
    "        df_cast.columns=[['Real', 'Character']]\n",
    "        df_cast=df_cast.apply(lambda x: x.str.upper())\n",
    "        df_cast['Real_name']=df_cast['Real'].apply(lambda x: x.split()[0])\n",
    "        df_cast=df_cast.drop(df_cast[df_cast['Character'].str.contains(' AS ') | df_cast['Character'].str.contains('(UNCREDITED)') ].index)\n",
    "        df_cast['Woman']=df_cast['Real_name'].isin(women_names['women names'])\n",
    "        df_cast=df_cast[df_cast['Woman']]\n",
    "        df_cast=pd.DataFrame(df_cast['Character'])\n",
    "        df_cast['Splitted_character']=df_cast['Character'].str.split()\n",
    "        df_cast.index= range(0, len(df_cast))\n",
    "        female_character_in_films_to_process[title]= df_cast\n",
    "        \n",
    "    "
   ]
  },
  {
   "cell_type": "markdown",
   "metadata": {},
   "source": [
    "Como se puede observar en el código anterior, eliminamos un total de 23 películas debido a la forma que tienen su guión(si contienen :, ?). Esto se debe a que este formato de título dificulta el almacenamiento de los archivos .csv generados con el scraping con R, por lo que existe la posibilidad de que no estén guardados correctamente para que nuestro código los pueda extraer y analizar."
   ]
  },
  {
   "cell_type": "code",
   "execution_count": 28,
   "metadata": {},
   "outputs": [
    {
     "data": {
      "text/plain": [
       "565"
      ]
     },
     "execution_count": 28,
     "metadata": {},
     "output_type": "execute_result"
    }
   ],
   "source": [
    "len(female_character_in_films_to_process)"
   ]
  },
  {
   "cell_type": "code",
   "execution_count": 29,
   "metadata": {},
   "outputs": [
    {
     "data": {
      "text/plain": [
       "352"
      ]
     },
     "execution_count": 29,
     "metadata": {},
     "output_type": "execute_result"
    }
   ],
   "source": [
    "len(bechdel_test)"
   ]
  },
  {
   "cell_type": "markdown",
   "metadata": {
    "collapsed": true
   },
   "source": [
    "Ahora debemos quedarnos solo con las películas de las que hemos conseguido un buen procesamiento de sus guiones(las que tenemos en bechdel_test)"
   ]
  },
  {
   "cell_type": "code",
   "execution_count": 30,
   "metadata": {
    "collapsed": true
   },
   "outputs": [],
   "source": [
    "bechdel_test_title_serie=pd.Series(list(bechdel_test.keys()))\n",
    "female_character_in_films_to_process_title_serie=pd.Series(list(female_character_in_films_to_process.keys()))"
   ]
  },
  {
   "cell_type": "code",
   "execution_count": 31,
   "metadata": {
    "collapsed": true
   },
   "outputs": [],
   "source": [
    "list_of_films_title_to_analyze=female_character_in_films_to_process_title_serie\\\n",
    "                                [female_character_in_films_to_process_title_serie.isin(bechdel_test_title_serie)]"
   ]
  },
  {
   "cell_type": "markdown",
   "metadata": {},
   "source": [
    "Con esta parte del código, obtenemos un dataframe por película, que tiene listadas únicamente las intervenciones femeninas en la película"
   ]
  },
  {
   "cell_type": "code",
   "execution_count": 32,
   "metadata": {
    "collapsed": true
   },
   "outputs": [],
   "source": [
    "movie_women_speaking={}\n",
    "for movie in list_of_films_title_to_analyze:\n",
    "    \n",
    "    if len(female_character_in_films_to_process[movie])==0:\n",
    "        movie_women_speaking[movie]=np.nan\n",
    "    else:\n",
    "    \n",
    "        condition_1= bechdel_test[movie][0].isin(female_character_in_films_to_process[movie]['Character'])\n",
    "    \n",
    "        condition_2=[0]* len(bechdel_test[movie])\n",
    "        for splitted_names in female_character_in_films_to_process[movie]['Splitted_character']:\n",
    "            if type(splitted_names) is not list:\n",
    "                if np.isnan(splitted_names):\n",
    "                    continue\n",
    "            else:\n",
    "                condition_2= condition_2 + bechdel_test[movie][0].isin(splitted_names).astype(int)\n",
    "                condition_2[condition_2>0]=1\n",
    "    \n",
    "        sum_of_conditions=condition_1 | condition_2.astype(bool)\n",
    "        movie_women_speaking[movie]=bechdel_test[movie][sum_of_conditions]"
   ]
  },
  {
   "cell_type": "markdown",
   "metadata": {},
   "source": [
    "Llegados a este punto, me he dado cuenta de que existe un problema con los personajes femeninos listados en movie_women_speaking, que puede ser atacado de dos maneras:"
   ]
  },
  {
   "cell_type": "markdown",
   "metadata": {},
   "source": [
    "SEGUNDO CASO: HACER LIMPIEZA DE LA LISTA DE INTERVENCIONES OBTENIDA EN EL CÓDIGO ANTERIOR, IDENTIFICANDO LOS NOMBRES DE LOS PERSONAJES COMO NOMBRES PROPIOS O NO.\n",
    "\n",
    "En este caso, lo que se busca es eliminar todos aquellos personajes identificados por el código anterior que 1. carezcan de nombre propio, o 2. sean personajes masculinos mal identificados.\n",
    "\n",
    "Para ello, lo que se realiza es un filtro, tomando la lista de intervenciones de personajes femeninos obtenida en el código anterior, comprobando si estos nombres aparecen en nuestra lista de nombres de mujer, o si, en el caso de que no sea así, son nombres propios con título (por ejemplo 'MR. GUMP' en Forrest Gump), para lo que tenemos generada previamente una lista con los títulos más comunes en inglés para referirse a una mujer.\n",
    "\n",
    "El problema que en este caso podemos encontrarnos es que el programa limpiará los nombres de aquellos personajes femeninos que no aparezcan en nuestra lista, o cuyo título no aparezca representado en ella."
   ]
  },
  {
   "cell_type": "markdown",
   "metadata": {},
   "source": [
    "ESTRATEGIA DE LIMPIEZA DE NOMBRES"
   ]
  },
  {
   "cell_type": "code",
   "execution_count": 38,
   "metadata": {
    "collapsed": true
   },
   "outputs": [],
   "source": [
    "#Primero, consigo una lista de todos aquellos nombres que no están contenidos en nuestra lista de nombres femeninos,\n",
    "#ni en la lista de títulos femeninos más comunes(que creo en este momento)\n",
    "\n",
    "titles_fem=pd.DataFrame(['MRS.', 'MS.', 'MISS', 'PRINCESS', \\\n",
    "                        'LADY', 'MISTRESS', 'MADAME', 'MADAM', 'MADEMOISELLE'], columns=[ 'Title'])\n",
    "\n",
    "list_=[]\n",
    "for a in list(movie_women_speaking.keys()):\n",
    "    \n",
    "    if isinstance(movie_women_speaking[a], pd.DataFrame):\n",
    "        \n",
    "        list_of_women_speaking=movie_women_speaking[a][0]\n",
    "        booleano=~(list_of_women_speaking.isin(women_names['women names']) |\\\n",
    "                   list_of_women_speaking.apply(lambda x: pd.Series([i in x for i in titles_fem['Title']]).any()))\n",
    "        \n",
    "        list_ =list_+ movie_women_speaking[a][0][booleano].unique().tolist() \n",
    "        \n",
    "    else:\n",
    "        continue\n",
    "        \n",
    "#Convierto esta lista en una Serie, para poder utilizar funciones propias de este objeto. \n",
    "#Aplico .unique() para eliminar posibles repeticiones.\n",
    "no_woman_names=pd.Series(pd.Series(list_).unique().tolist())\n",
    "\n",
    "#Escojo sólo aquellos nombres que no están listados como nombres masculinos en nuestra lista de referencia\n",
    "possible_woman_names=no_woman_names[~no_woman_names.isin(men_names['men names'])]\n",
    "\n",
    "#Creo una variable de términos comunes relativos a familiares, que pueden aparecer como nombres de personajes.\n",
    "list_of_fem_family_names=pd.Series(['BOY', 'BROTHER', 'FRIEND', 'GIRL', 'WOMAN', 'MAN', 'MOM', 'MUM', 'MOTHER', 'SISTER'])\n",
    "#Escojo aquellos nombres que no contienen ninguno de estos términos\n",
    "possible_woman_names=possible_woman_names[~possible_woman_names.apply(\\\n",
    "                                           lambda x: pd.Series([i in x for i in list_of_fem_family_names]).any())]\n",
    "\n",
    "#Creo otra lista con nombres de professiones en inglés, que también pueden ser utilizados para nombrar a un personaje.\n",
    "professions=pd.read_csv('professions.csv', quoting=3)\n",
    "professions=professions['job'].str.strip(' \"')\n",
    "professions=professions.str.upper()\n",
    "\n",
    "#Escojo sólo aquellos nombres de personajes que no estén contenidos en la lista previa (que no sean nombrados sólo por su profesión)\n",
    "possible_woman_names=possible_woman_names[~possible_woman_names.isin(professions)]\n",
    "\n",
    "#Finalmente, añado la lista resultante a woman_names, sabiendo que es muy probable que, tras haber realizado la limpieza,\n",
    "#los nombres que contiene sean nombres de personajes femeninos con nombre propio\n",
    "\n",
    "women_names_with_possible=women_names['women names'].append(possible_woman_names)"
   ]
  },
  {
   "cell_type": "code",
   "execution_count": 39,
   "metadata": {
    "collapsed": true
   },
   "outputs": [],
   "source": [
    "result_of_analysis_bt_with_named_women=pd.DataFrame({'title': [np.nan], 'num_of_named': [np.nan], 'result_1': [np.nan], 'result_2': [np.nan]})\n",
    "\n",
    "for film in list(movie_women_speaking.keys()):\n",
    "    if isinstance(movie_women_speaking[film], pd.DataFrame):\n",
    "        \n",
    "        list_of_women_speaking=movie_women_speaking[film][0]\n",
    "        df=movie_women_speaking[film][(list_of_women_speaking.isin(women_names_with_possible))]\n",
    "        number_of_named_women=df[0].nunique()\n",
    "   \n",
    "        if number_of_named_women<=1:\n",
    "            df_result=pd.DataFrame({'title':[film], 'num_of_named': [number_of_named_women], 'result_1': [int(0)]})\n",
    "            \n",
    "        else:\n",
    "            df_result=pd.DataFrame({'title':[film], 'num_of_named': [int(number_of_named_women)], 'result_1': [int(1)]})    \n",
    "                    \n",
    "    else:\n",
    "        df_result=pd.DataFrame({'title':[film], 'num_of_named': [int(0)], 'result_1': [int(0)]})\n",
    "    \n",
    "    result_of_analysis_bt_with_named_women=pd.concat((result_of_analysis_bt_with_named_women, df_result))"
   ]
  },
  {
   "cell_type": "markdown",
   "metadata": {},
   "source": [
    "Vamos a analizar la viabilidad de esta opción, en cuanto a cuánto error comete determinando si una película pasa el test o no (en cuanto a número de personajes femeninos con nombre en ella).\n",
    "Hay que tener en cuenta que en este caso, sólo es posible evaluar el error cometido con aquellas películas que:\n",
    "\n",
    "NUESTRO CÓDIGO ETIQUETA COMO 0 (NO PASAN EL TEST)\n",
    "\n",
    "EN LA WEB ESTÁN ETIQUETADOS COMO 1 (SÍ PASAN EL TEST)\n",
    "\n",
    "Porque, aunque nuestro código etiquete películas como 1, aunque en la web sean 0, no podemos determinar si falla o no, ya que aún quedan 2 condiciones por cumplir, que podrían cambiar el 1 de nuestro resultado a 0."
   ]
  },
  {
   "cell_type": "code",
   "execution_count": 40,
   "metadata": {},
   "outputs": [
    {
     "data": {
      "text/plain": [
       "4.747774480712166"
      ]
     },
     "execution_count": 40,
     "metadata": {},
     "output_type": "execute_result"
    }
   ],
   "source": [
    "accuracy_namedwomen=result_of_analysis_bt_with_named_women.merge(films, right_on='title', left_on='title')\n",
    "accuracy_namedwomen=accuracy_namedwomen[['title', 'result_1', 'result-src']]\n",
    "error_namedwomen_data= len(accuracy_namedwomen[\\\n",
    "                               (accuracy_namedwomen['result_1']==0) & (accuracy_namedwomen['result-src']==1)])\\\n",
    "                               *100/ len(accuracy_namedwomen)\n",
    "error_namedwomen_data"
   ]
  },
  {
   "cell_type": "markdown",
   "metadata": {},
   "source": [
    "FALTA MIRAR COMO HACER PARA COMPROBAR QUE LAS CONVERSACIONES SON ENTRE VARIAS MUJERES"
   ]
  },
  {
   "cell_type": "code",
   "execution_count": 109,
   "metadata": {
    "collapsed": true
   },
   "outputs": [
    {
     "name": "stdout",
     "output_type": "stream",
     "text": [
      "Peeping Tom\n",
      "Final Destination\n",
      "Insomnia\n",
      "Aliens\n",
      "Scream\n",
      "Fracture\n",
      "Strange Days\n",
      "Punch-Drunk Love\n",
      "Kate & Leopold\n",
      "Hellboy\n",
      "Logan's Run\n",
      "Purple Rain\n",
      "Marty\n",
      "Adaptation\n",
      "An Education\n",
      "Hackers\n",
      "Bruce Almighty\n",
      "Malcolm X\n",
      "Grand Hotel\n",
      "Amadeus\n",
      "Dragonslayer\n",
      "Lord of War\n",
      "Margot at the Wedding\n",
      "Rear Window\n",
      "No Country for Old Men\n",
      "Bad Santa\n",
      "Vanilla Sky\n",
      "American Graffiti\n",
      "Red Riding Hood\n",
      "48 Hrs.\n",
      "Batman\n",
      "Major League\n",
      "Wild Things\n",
      "Gamer\n",
      "Swordfish\n",
      "Midnight Cowboy\n",
      "Hellraiser\n",
      "Annie Hall\n",
      "Thelma & Louise\n",
      "Fight Club\n",
      "Eternal Sunshine of the Spotless Mind\n",
      "Papadopoulos & Sons\n",
      "Devil in a Blue Dress\n",
      "Monkeybone\n",
      "Alien Nation\n",
      "Funny People\n",
      "Mirrors\n",
      "Repo Man\n",
      "Arsenic and Old Lace\n",
      "G.I. Jane\n",
      "How to Train Your Dragon 2\n",
      "Belle\n",
      "Citizen Kane\n",
      "Get Carter\n",
      "Tremors\n",
      "Supergirl\n",
      "Being John Malkovich\n",
      "Chronicle\n",
      "Stepmom\n",
      "Ocean's Eleven\n",
      "I Still Know What You Did Last Summer\n",
      "Anastasia\n",
      "Pretty Woman\n",
      "What Lies Beneath\n",
      "Natural Born Killers\n",
      "True Romance\n",
      "Hollow Man\n",
      "Nick of Time\n",
      "Friday the 13th\n",
      "Sweet Smell of Success\n",
      "Dear White People\n",
      "Antitrust\n",
      "All About Steve\n",
      "Save the Last Dance\n",
      "Single White Female\n",
      "Gattaca\n",
      "Death to Smoochy\n",
      "Drag Me to Hell\n",
      "Cherry Falls\n",
      "Juno\n",
      "Out of Sight\n",
      "While She Was Out\n",
      "Dune\n",
      "Sex and the City\n",
      "Jaws\n",
      "Intolerable Cruelty\n",
      "It's a Wonderful Life\n",
      "Cube\n",
      "Milk\n",
      "Get Low\n",
      "Carrie\n",
      "American Beauty\n",
      "Deadpool\n",
      "Bonnie and Clyde\n",
      "American Gangster\n",
      "Les Miserables\n",
      "X-Men\n",
      "Office Space\n",
      "Analyze This\n",
      "Swingers\n",
      "Heavenly Creatures\n",
      "Take Shelter\n",
      "Jurassic Park III\n",
      "Despicable Me 2\n",
      "Shame\n",
      "Erin Brockovich\n",
      "Moon\n",
      "Fast Times at Ridgemont High\n",
      "Sister Act\n",
      "Knocked Up\n",
      "Chinatown\n",
      "White Christmas\n",
      "xXx\n",
      "House of 1000 Corpses\n",
      "Beloved\n",
      "Bound\n",
      "Serial Mom\n",
      "RocknRolla\n",
      "Wild Wild West\n",
      "Saw\n",
      "Dances with Wolves\n",
      "Psycho\n",
      "Platoon\n",
      "Brazil\n",
      "Hanna\n",
      "Klute\n",
      "Die Hard\n",
      "Eastern Promises\n",
      "Ed Wood\n",
      "American History X\n",
      "Ferris Bueller's Day Off\n",
      "Nine\n",
      "Pulp Fiction\n",
      "Starship Troopers\n",
      "Rush Hour 2\n",
      "American Psycho\n",
      "Total Recall\n",
      "Barton Fink\n",
      "Gangs of New York\n",
      "Jaws 2\n",
      "Misery\n",
      "Body of Evidence\n",
      "Basquiat\n",
      "Sideways\n",
      "Spider-Man\n",
      "Ninja Assassin\n",
      "Little Nicky\n",
      "Kids\n",
      "Frozen River\n",
      "Final Destination 2\n",
      "Indiana Jones and the Last Crusade\n",
      "Heavy Metal\n",
      "Rachel Getting Married\n",
      "Peggy Sue Got Married\n",
      "Mystery Men\n",
      "Beginners\n",
      "Fantastic Four\n",
      "Basic\n",
      "Men in Black\n",
      "Youth in Revolt\n",
      "Blow\n",
      "Burn After Reading\n",
      "La La Land\n",
      "Independence Day\n",
      "Nashville\n",
      "L.A. Confidential\n",
      "All the President's Men\n",
      "Remember Me\n",
      "Body Heat\n",
      "Toy Story\n",
      "Fatal Instinct\n",
      "Tinker Tailor Soldier Spy\n",
      "Point Break\n",
      "Ninotchka\n",
      "Cast Away\n",
      "Rocky\n",
      "Willow\n",
      "My Best Friend's Wedding\n",
      "Scream 3\n",
      "Big\n",
      "Apt Pupil\n",
      "Paul\n",
      "Shrek\n",
      "American Pie\n",
      "Tombstone\n",
      "Fruitvale Station\n",
      "Blue Velvet\n",
      "Raising Arizona\n",
      "Frances\n",
      "There's Something About Mary\n",
      "Antz\n",
      "Agnes of God\n",
      "Lost Highway\n",
      "My Week with Marilyn\n",
      "Shakespeare in Love\n",
      "Chasing Amy\n",
      "Kill Your Darlings\n",
      "Jacob's Ladder\n",
      "His Girl Friday\n",
      "8MM\n",
      "Sense and Sensibility\n",
      "Crash\n",
      "Dead Poets Society\n",
      "In the Loop\n",
      "Rush\n",
      "Interview with the Vampire\n",
      "Valkyrie\n",
      "From Dusk Till Dawn\n",
      "He's Just Not That Into You\n",
      "Se7en\n",
      "Capote\n",
      "Smashed\n",
      "Moonstruck\n",
      "Broadcast News\n",
      "Jay and Silent Bob Strike Back\n",
      "Inception\n",
      "Cruel Intentions\n",
      "Sleepy Hollow\n",
      "Braveheart\n",
      "Charlie's Angels\n",
      "Pariah\n",
      "Fargo\n",
      "Almost Famous\n",
      "Law Abiding Citizen\n",
      "Assassins\n",
      "True Lies\n",
      "TRON\n",
      "Godzilla\n",
      "Double Indemnity\n",
      "Schindler's List\n",
      "Lone Star\n",
      "Finding Nemo\n",
      "Gladiator\n",
      "Ocean's Twelve\n",
      "Looper\n",
      "Big Fish\n",
      "Basic Instinct\n",
      "Human Nature\n",
      "Oblivion\n",
      "127 Hours\n",
      "Slumdog Millionaire\n",
      "Queen of the Damned\n",
      "Her\n",
      "One Flew Over the Cuckoo's Nest\n",
      "Witness\n",
      "Starman\n",
      "Sunset Blvd.\n",
      "Hannah and Her Sisters\n",
      "Ghost World\n",
      "Meet Joe Black\n",
      "Traffic\n",
      "Dog Day Afternoon\n",
      "All About Eve\n",
      "Strangers on a Train\n",
      "Room\n",
      "Midnight in Paris\n",
      "Fear and Loathing in Las Vegas\n",
      "Blade\n",
      "Bachelor Party\n",
      "My Girl\n",
      "Hudson Hawk\n",
      "Mission to Mars\n",
      "Ghost\n",
      "Autumn in New York\n",
      "Heathers\n",
      "Buffy the Vampire Slayer\n",
      "You've Got Mail\n",
      "Memento\n",
      "Notting Hill\n",
      "Birdman\n",
      "Dallas Buyers Club\n",
      "Pleasantville\n",
      "Disturbia\n",
      "Drop Dead Gorgeous\n",
      "Margin Call\n",
      "Jason X\n",
      "Cold Mountain\n",
      "Pi\n",
      "Good Will Hunting\n",
      "High Fidelity\n"
     ]
    }
   ],
   "source": [
    "result_conversation=pd.DataFrame({'title': [np.nan], 'result_2': [np.nan]})\n",
    "#for film in list(movie_women_speaking.keys()):\n",
    "for film in result_of_analysis_bt_with_named_women['title'][result_of_analysis_bt_with_named_women['result_1']==1]:\n",
    "    print(film)\n",
    "    dict_consecutive={}\n",
    "    if isinstance(movie_women_speaking[film], pd.DataFrame) and len(movie_women_speaking[film])>1:\n",
    "        \n",
    "        list_of_consecutive_speeches=movie_women_speaking[film].\\\n",
    "                                      loc[sorted(np.append(movie_women_speaking[film][\\\n",
    "                                      (np.diff(np.append(movie_women_speaking[film].index, [37]))==1)].index, \\\n",
    "                                       movie_women_speaking[film][(np.diff(np.append(movie_women_speaking[film].index, [37]))==1)].index+1))]\n",
    "\n",
    "        list_of_consecutive_speeches=list_of_consecutive_speeches.drop_duplicates()\n",
    "        list_of_consecutive_speeches['index']=list_of_consecutive_speeches.index\n",
    "        \n",
    "        \n",
    "        list_of_true_conversation_index=[]\n",
    "        for n in list(range(0, len(list_of_consecutive_speeches)-1)):\n",
    "            \n",
    "            characters_are_different=list_of_consecutive_speeches[0].iloc[n]!= list_of_consecutive_speeches[0].iloc[n+1]\n",
    "            speeches_are_consecutive=(list_of_consecutive_speeches['index'].iloc[n+1]-list_of_consecutive_speeches['index'].iloc[n])==1\n",
    "            \n",
    "            if (characters_are_different) and (speeches_are_consecutive):\n",
    "                list_of_true_conversation_index.append([n, n+1])\n",
    "        \n",
    "        \n",
    "        \n",
    "        if not list_of_true_conversation_index:\n",
    "            list_of_true_conversation_index=list(set(list_of_true_conversation_index))\n",
    "            df_result=pd.DataFrame({'title':[film], 'result_2': [int(0)]})\n",
    "        \n",
    "        else:\n",
    "            #index=list(set(list_of_true_conversation_index))\n",
    "            df_result=pd.DataFrame({'title':[film], 'result_2': [int(1)]})\n",
    "    else:\n",
    "        \n",
    "        df_result=pd.DataFrame({'title':[film], 'result_2': [int(0)]})\n",
    "                                \n",
    "    result_conversation=pd.concat((result_conversation, df_result))                           "
   ]
  },
  {
   "cell_type": "code",
   "execution_count": 113,
   "metadata": {},
   "outputs": [
    {
     "data": {
      "text/plain": [
       "3.9285714285714284"
      ]
     },
     "execution_count": 113,
     "metadata": {},
     "output_type": "execute_result"
    }
   ],
   "source": [
    "accuracy_conversation=result_conversation.merge(films, right_on='title', left_on='title', how='inner')\n",
    "accuracy_conversation=accuracy_conversation[['title', 'result_2', 'result-src']]\n",
    "error_conversation_data= len(accuracy_conversation[\\\n",
    "                               (accuracy_conversation['result_2']==0) & (accuracy_conversation['result-src']==1)])\\\n",
    "                               *100/ len(accuracy_conversation)\n",
    "error_conversation_data"
   ]
  },
  {
   "cell_type": "code",
   "execution_count": 114,
   "metadata": {},
   "outputs": [
    {
     "data": {
      "text/plain": [
       "280"
      ]
     },
     "execution_count": 114,
     "metadata": {},
     "output_type": "execute_result"
    }
   ],
   "source": [
    "len(accuracy_conversation)"
   ]
  }
 ],
 "metadata": {
  "kernelspec": {
   "display_name": "Python 3",
   "language": "python",
   "name": "python3"
  },
  "language_info": {
   "codemirror_mode": {
    "name": "ipython",
    "version": 3
   },
   "file_extension": ".py",
   "mimetype": "text/x-python",
   "name": "python",
   "nbconvert_exporter": "python",
   "pygments_lexer": "ipython3",
   "version": "3.6.3"
  }
 },
 "nbformat": 4,
 "nbformat_minor": 2
}
